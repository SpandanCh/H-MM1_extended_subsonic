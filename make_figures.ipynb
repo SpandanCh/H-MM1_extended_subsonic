{
 "cells": [
  {
   "cell_type": "code",
   "execution_count": 1,
   "id": "84ed5376",
   "metadata": {},
   "outputs": [],
   "source": [
    "import numpy as np\n",
    "from astropy.io import fits\n",
    "import matplotlib.pyplot as plt\n",
    "\n",
    "from aplpy import FITSFigure as aplfig\n",
    "import astropy.units as u\n",
    "\n",
    "import matplotlib as mpl\n",
    "from matplotlib.ticker import AutoMinorLocator\n",
    "\n",
    "mpl.rcParams['xtick.direction'] = 'in'\n",
    "mpl.rcParams['ytick.direction'] = 'in'"
   ]
  },
  {
   "cell_type": "code",
   "execution_count": null,
   "id": "014eeed6",
   "metadata": {},
   "outputs": [],
   "source": [
    "npeaks, hd = fits.getdata('fitcubes/npeaks_cut5.fits', header=True)\n",
    "\n",
    "parcb_1cmp = fits.getdata('fitcubes/H-MM1-mle-x1.fits')\n",
    "parcb_2cmp = fits.getdata('fitcubes/H-MM1-mle-x2.fits')\n",
    "parcb_3cmp = fits.getdata('fitcubes/H-MM1-mle-x3.fits')"
   ]
  },
  {
   "cell_type": "code",
   "execution_count": null,
   "id": "eb132fa0",
   "metadata": {},
   "outputs": [],
   "source": [
    "figs_dir = 'figures/'"
   ]
  }
 ],
 "metadata": {
  "kernelspec": {
   "display_name": "Python 3 (ipykernel)",
   "language": "python",
   "name": "python3"
  },
  "language_info": {
   "codemirror_mode": {
    "name": "ipython",
    "version": 3
   },
   "file_extension": ".py",
   "mimetype": "text/x-python",
   "name": "python",
   "nbconvert_exporter": "python",
   "pygments_lexer": "ipython3",
   "version": "3.10.9"
  }
 },
 "nbformat": 4,
 "nbformat_minor": 5
}
